{
 "cells": [
  {
   "cell_type": "markdown",
   "id": "095e6168",
   "metadata": {},
   "source": [
    "# House Price Prediction"
   ]
  },
  {
   "cell_type": "markdown",
   "id": "9f67f99d",
   "metadata": {},
   "source": [
    "## Import Libraries"
   ]
  },
  {
   "cell_type": "code",
   "execution_count": 45,
   "id": "0492fc19",
   "metadata": {},
   "outputs": [],
   "source": [
    "import pandas as pd\n",
    "import numpy as np\n",
    "import matplotlib.pyplot as plt\n",
    "import seaborn as sns\n",
    "from sklearn.model_selection import train_test_split\n",
    "from sklearn.linear_model import LinearRegression, Lasso, Ridge\n",
    "from sklearn.tree import DecisionTreeRegressor\n",
    "from sklearn.metrics import mean_squared_error, r2_score"
   ]
  },
  {
   "cell_type": "markdown",
   "id": "e421bba3",
   "metadata": {},
   "source": [
    "## Load and Preview Dataset"
   ]
  },
  {
   "cell_type": "markdown",
   "id": "526a2c28",
   "metadata": {},
   "source": [
    "### Reading Csv File"
   ]
  },
  {
   "cell_type": "code",
   "execution_count": 46,
   "id": "5203704e",
   "metadata": {},
   "outputs": [],
   "source": [
    "df = pd.read_csv(\"lahore_housing_prices.csv\")"
   ]
  },
  {
   "cell_type": "markdown",
   "id": "7d9970c7",
   "metadata": {},
   "source": [
    "### Display the first few rows"
   ]
  },
  {
   "cell_type": "code",
   "execution_count": 47,
   "id": "5d433cc0",
   "metadata": {},
   "outputs": [
    {
     "data": {
      "text/html": [
       "<div>\n",
       "<style scoped>\n",
       "    .dataframe tbody tr th:only-of-type {\n",
       "        vertical-align: middle;\n",
       "    }\n",
       "\n",
       "    .dataframe tbody tr th {\n",
       "        vertical-align: top;\n",
       "    }\n",
       "\n",
       "    .dataframe thead th {\n",
       "        text-align: right;\n",
       "    }\n",
       "</style>\n",
       "<table border=\"1\" class=\"dataframe\">\n",
       "  <thead>\n",
       "    <tr style=\"text-align: right;\">\n",
       "      <th></th>\n",
       "      <th>house_id</th>\n",
       "      <th>Type</th>\n",
       "      <th>Location</th>\n",
       "      <th>Area</th>\n",
       "      <th>Bath(s)</th>\n",
       "      <th>Bedroom(s)</th>\n",
       "      <th>Price</th>\n",
       "    </tr>\n",
       "  </thead>\n",
       "  <tbody>\n",
       "    <tr>\n",
       "      <th>0</th>\n",
       "      <td>46326643</td>\n",
       "      <td>House</td>\n",
       "      <td>DHA Defence, Lahore, Punjab</td>\n",
       "      <td>1 Kanal</td>\n",
       "      <td>6</td>\n",
       "      <td>5</td>\n",
       "      <td>75500000</td>\n",
       "    </tr>\n",
       "    <tr>\n",
       "      <th>1</th>\n",
       "      <td>46952582</td>\n",
       "      <td>House</td>\n",
       "      <td>Bahria Orchard, Lahore, Punjab</td>\n",
       "      <td>8 Marla</td>\n",
       "      <td>5</td>\n",
       "      <td>5</td>\n",
       "      <td>25000000</td>\n",
       "    </tr>\n",
       "    <tr>\n",
       "      <th>2</th>\n",
       "      <td>47357581</td>\n",
       "      <td>House</td>\n",
       "      <td>Paragon City, Lahore, Punjab</td>\n",
       "      <td>10 Marla</td>\n",
       "      <td>6</td>\n",
       "      <td>5</td>\n",
       "      <td>47000000</td>\n",
       "    </tr>\n",
       "    <tr>\n",
       "      <th>3</th>\n",
       "      <td>47397157</td>\n",
       "      <td>Flat</td>\n",
       "      <td>Askari, Lahore, Punjab</td>\n",
       "      <td>10 Marla</td>\n",
       "      <td>3</td>\n",
       "      <td>3</td>\n",
       "      <td>28000000</td>\n",
       "    </tr>\n",
       "    <tr>\n",
       "      <th>4</th>\n",
       "      <td>43109993</td>\n",
       "      <td>House</td>\n",
       "      <td>DHA Defence, Lahore, Punjab</td>\n",
       "      <td>8 Marla</td>\n",
       "      <td>5</td>\n",
       "      <td>4</td>\n",
       "      <td>43500000</td>\n",
       "    </tr>\n",
       "  </tbody>\n",
       "</table>\n",
       "</div>"
      ],
      "text/plain": [
       "   house_id   Type                        Location      Area  Bath(s)  \\\n",
       "0  46326643  House     DHA Defence, Lahore, Punjab   1 Kanal        6   \n",
       "1  46952582  House  Bahria Orchard, Lahore, Punjab   8 Marla        5   \n",
       "2  47357581  House    Paragon City, Lahore, Punjab  10 Marla        6   \n",
       "3  47397157   Flat          Askari, Lahore, Punjab  10 Marla        3   \n",
       "4  43109993  House     DHA Defence, Lahore, Punjab   8 Marla        5   \n",
       "\n",
       "   Bedroom(s)     Price  \n",
       "0           5  75500000  \n",
       "1           5  25000000  \n",
       "2           5  47000000  \n",
       "3           3  28000000  \n",
       "4           4  43500000  "
      ]
     },
     "execution_count": 47,
     "metadata": {},
     "output_type": "execute_result"
    }
   ],
   "source": [
    "df.head()"
   ]
  },
  {
   "cell_type": "markdown",
   "id": "b301ea30",
   "metadata": {},
   "source": [
    "## Data Exploration and Cleaning"
   ]
  },
  {
   "cell_type": "markdown",
   "id": "2e093d6d",
   "metadata": {},
   "source": [
    "### Dataset Shape"
   ]
  },
  {
   "cell_type": "code",
   "execution_count": 48,
   "id": "aea9d0ae",
   "metadata": {},
   "outputs": [
    {
     "name": "stdout",
     "output_type": "stream",
     "text": [
      "Shape of the dataset: (17169, 7)\n"
     ]
    }
   ],
   "source": [
    "print(\"Shape of the dataset:\", df.shape)"
   ]
  },
  {
   "cell_type": "markdown",
   "id": "160b4716",
   "metadata": {},
   "source": [
    "### Count of Different Types of Houses"
   ]
  },
  {
   "cell_type": "code",
   "execution_count": 49,
   "id": "04c10883",
   "metadata": {},
   "outputs": [
    {
     "name": "stdout",
     "output_type": "stream",
     "text": [
      "Count of different types of houses:\n",
      " Type\n",
      "Flat          1146\n",
      "House        16017\n",
      "Penthouse        4\n",
      "Room             2\n",
      "Name: Type, dtype: int64\n"
     ]
    }
   ],
   "source": [
    "print(\"Count of different types of houses:\\n\", df.groupby(\"Type\")[\"Type\"].agg(\"count\"))"
   ]
  },
  {
   "cell_type": "markdown",
   "id": "cfe26fcb",
   "metadata": {},
   "source": [
    "### Drop house_id and Type Columns"
   ]
  },
  {
   "cell_type": "code",
   "execution_count": 50,
   "id": "a650cbbb",
   "metadata": {},
   "outputs": [],
   "source": [
    "df1 = df.drop([\"house_id\", \"Type\"], axis=1)"
   ]
  },
  {
   "cell_type": "markdown",
   "id": "655f9272",
   "metadata": {},
   "source": [
    "### Check for Null Values"
   ]
  },
  {
   "cell_type": "code",
   "execution_count": 51,
   "id": "bde22cdc",
   "metadata": {},
   "outputs": [
    {
     "name": "stdout",
     "output_type": "stream",
     "text": [
      "Null values in each column:\n",
      " Location      0\n",
      "Area          0\n",
      "Bath(s)       0\n",
      "Bedroom(s)    0\n",
      "Price         0\n",
      "dtype: int64\n"
     ]
    }
   ],
   "source": [
    "print(\"Null values in each column:\\n\", df1.isnull().sum())"
   ]
  },
  {
   "cell_type": "markdown",
   "id": "d4b89da4",
   "metadata": {},
   "source": [
    "### Clean 'Area' column"
   ]
  },
  {
   "cell_type": "code",
   "execution_count": 52,
   "id": "cb21ab07",
   "metadata": {},
   "outputs": [],
   "source": [
    "def clean_area(value):\n",
    "    if 'Kanal' in value:\n",
    "        numeric_value = float(value.split(' ')[0]) * 20\n",
    "        return numeric_value\n",
    "    elif 'Marla' in value:\n",
    "        numeric_value = float(value.split(' ')[0])\n",
    "        return numeric_value\n",
    "    else:\n",
    "        return None\n",
    "\n",
    "df1[\"Marla\"] = df1[\"Area\"].apply(clean_area)\n",
    "df1 = df1.drop(\"Area\", axis=1)"
   ]
  },
  {
   "cell_type": "markdown",
   "id": "4d622e18",
   "metadata": {},
   "source": [
    "### Outlier detection\n",
    "#### Houses with Marla greater than 100:\\n"
   ]
  },
  {
   "cell_type": "code",
   "execution_count": 53,
   "id": "f210687c",
   "metadata": {},
   "outputs": [
    {
     "name": "stdout",
     "output_type": "stream",
     "text": [
      "Houses with Marla greater than 100:\n",
      "                            Location  Bath(s)  Bedroom(s)      Price  Marla\n",
      "1386     Model Town, Lahore, Punjab        6           6  560000000  120.0\n",
      "3044     Model Town, Lahore, Punjab        6          10  650000000  160.0\n",
      "3462            GOR, Lahore, Punjab        6           7  700000000  136.0\n",
      "4484   Paragon City, Lahore, Punjab        6           7  350000000  160.0\n",
      "5906    Garden Town, Lahore, Punjab        4           4  550000000  160.0\n",
      "7012     Model Town, Lahore, Punjab        6           7  520000000  120.0\n",
      "7556    Pine Avenue, Lahore, Punjab        6           5  170000000  182.0\n",
      "8168   Paragon City, Lahore, Punjab        6           8  350000000  160.0\n",
      "9672     Model Town, Lahore, Punjab        6           8  500000000  120.0\n",
      "10847   Bahria Town, Lahore, Punjab        4           3   26000000  160.0\n",
      "11536    Model Town, Lahore, Punjab        6           8  500000000  120.0\n",
      "11641         Cantt, Lahore, Punjab        6           6  500000000  120.0\n",
      "14572       Gulberg, Lahore, Punjab        6          10  550000000  140.0\n",
      "15383    Model Town, Lahore, Punjab        6          11  550000000  120.0\n"
     ]
    }
   ],
   "source": [
    "print(\"Houses with Marla greater than 100:\\n\", df1[df1.Marla > 100])\n"
   ]
  },
  {
   "cell_type": "markdown",
   "id": "ca7d61b2",
   "metadata": {},
   "source": [
    "#### Houses with Bedroom(s) greater than 6:"
   ]
  },
  {
   "cell_type": "code",
   "execution_count": 54,
   "id": "9e338c08",
   "metadata": {},
   "outputs": [
    {
     "name": "stdout",
     "output_type": "stream",
     "text": [
      "Houses with Bedroom(s) greater than 6:\n",
      "                                        Location  Bath(s)  Bedroom(s)  \\\n",
      "90                  DHA Defence, Lahore, Punjab        6           7   \n",
      "187                 DHA Defence, Lahore, Punjab        6           7   \n",
      "221                Raiwind Road, Lahore, Punjab        6           7   \n",
      "267                 DHA Defence, Lahore, Punjab        8           7   \n",
      "270                 DHA Defence, Lahore, Punjab        8           7   \n",
      "...                                         ...      ...         ...   \n",
      "16936  Pak Arab Housing Society, Lahore, Punjab        6           8   \n",
      "16994               Garden Town, Lahore, Punjab        6           8   \n",
      "17017               DHA Defence, Lahore, Punjab        6           7   \n",
      "17156               DHA Defence, Lahore, Punjab        6           7   \n",
      "17164        PIA Housing Scheme, Lahore, Punjab        6           7   \n",
      "\n",
      "           Price  Marla  \n",
      "90     420000000   40.0  \n",
      "187    150000000   40.0  \n",
      "221     95000000   20.0  \n",
      "267     80000000   20.0  \n",
      "270     77000000   20.0  \n",
      "...          ...    ...  \n",
      "16936   40000000   10.0  \n",
      "16994   65000000   20.0  \n",
      "17017  150000000   20.0  \n",
      "17156  162500000   20.0  \n",
      "17164   49000000   20.0  \n",
      "\n",
      "[483 rows x 5 columns]\n"
     ]
    }
   ],
   "source": [
    "print(\"Houses with Bedroom(s) greater than 6:\\n\", df1[df1[\"Bedroom(s)\"] > 6])"
   ]
  },
  {
   "cell_type": "markdown",
   "id": "c1325d82",
   "metadata": {},
   "source": [
    "#### Houses with Bath(s) greater than 6:"
   ]
  },
  {
   "cell_type": "code",
   "execution_count": 55,
   "id": "00024188",
   "metadata": {},
   "outputs": [
    {
     "name": "stdout",
     "output_type": "stream",
     "text": [
      "Houses with Bath(s) greater than 6:\n",
      "                           Location  Bath(s)  Bedroom(s)      Price  Marla\n",
      "70     DHA Defence, Lahore, Punjab        7           6   89500000   20.0\n",
      "132    Harbanspura, Lahore, Punjab        7           6   60000000   20.0\n",
      "267    DHA Defence, Lahore, Punjab        8           7   80000000   20.0\n",
      "270    DHA Defence, Lahore, Punjab        8           7   77000000   20.0\n",
      "503    DHA Defence, Lahore, Punjab        7           6  145000000   34.0\n",
      "...                            ...      ...         ...        ...    ...\n",
      "16795  Bahria Town, Lahore, Punjab        7           5   28000000   10.0\n",
      "16856  DHA Defence, Lahore, Punjab        8           7   79000000   20.0\n",
      "17057      GT Road, Lahore, Punjab        7           5   29000000   10.0\n",
      "17154  DHA Defence, Lahore, Punjab        7           6  160000000   20.0\n",
      "17166  DHA Defence, Lahore, Punjab        7           6  108500000   20.0\n",
      "\n",
      "[116 rows x 5 columns]\n"
     ]
    }
   ],
   "source": [
    "print(\"Houses with Bath(s) greater than 6:\\n\", df1[df1[\"Bath(s)\"] > 6])"
   ]
  },
  {
   "cell_type": "markdown",
   "id": "1a33c967",
   "metadata": {},
   "source": [
    "## Feature Transformation"
   ]
  },
  {
   "cell_type": "markdown",
   "id": "e9cd84a7",
   "metadata": {},
   "source": [
    "### Simplify 'Location' column"
   ]
  },
  {
   "cell_type": "code",
   "execution_count": 56,
   "id": "34b2d58a",
   "metadata": {},
   "outputs": [],
   "source": [
    "df1['Location'] = df1['Location'].apply(lambda x: x.split(',')[0].strip())"
   ]
  },
  {
   "cell_type": "markdown",
   "id": "39483892",
   "metadata": {},
   "source": [
    "### Group rare locations into 'other'"
   ]
  },
  {
   "cell_type": "code",
   "execution_count": 57,
   "id": "6e90f150",
   "metadata": {},
   "outputs": [],
   "source": [
    "location_stats = df1.groupby(\"Location\")[\"Location\"].agg('count').sort_values(ascending=False)\n",
    "locations_less_than_10 = location_stats[location_stats <= 10]\n",
    "df1['Location'] = df1['Location'].apply(lambda x: 'other' if x in locations_less_than_10 else x)"
   ]
  },
  {
   "cell_type": "markdown",
   "id": "c9b358b6",
   "metadata": {},
   "source": [
    "### Create dummy variables for 'Location'"
   ]
  },
  {
   "cell_type": "code",
   "execution_count": 58,
   "id": "5a045f06",
   "metadata": {},
   "outputs": [
    {
     "data": {
      "text/html": [
       "<div>\n",
       "<style scoped>\n",
       "    .dataframe tbody tr th:only-of-type {\n",
       "        vertical-align: middle;\n",
       "    }\n",
       "\n",
       "    .dataframe tbody tr th {\n",
       "        vertical-align: top;\n",
       "    }\n",
       "\n",
       "    .dataframe thead th {\n",
       "        text-align: right;\n",
       "    }\n",
       "</style>\n",
       "<table border=\"1\" class=\"dataframe\">\n",
       "  <thead>\n",
       "    <tr style=\"text-align: right;\">\n",
       "      <th></th>\n",
       "      <th>Bath(s)</th>\n",
       "      <th>Bedroom(s)</th>\n",
       "      <th>Price</th>\n",
       "      <th>Marla</th>\n",
       "      <th>Al Noor Park Housing Society</th>\n",
       "      <th>Al Rehman Garden</th>\n",
       "      <th>Al-Hafiz Town</th>\n",
       "      <th>Al-Hamad Colony (AIT)</th>\n",
       "      <th>Al-Hamd Park</th>\n",
       "      <th>Allama Iqbal Town</th>\n",
       "      <th>...</th>\n",
       "      <th>Taj Bagh Scheme</th>\n",
       "      <th>Tariq Gardens</th>\n",
       "      <th>Thokar Niaz Baig</th>\n",
       "      <th>Township</th>\n",
       "      <th>UET Housing Society</th>\n",
       "      <th>Valencia Housing Society</th>\n",
       "      <th>Vital Homes Housing Scheme</th>\n",
       "      <th>Walton Road</th>\n",
       "      <th>Wapda Town</th>\n",
       "      <th>other</th>\n",
       "    </tr>\n",
       "  </thead>\n",
       "  <tbody>\n",
       "    <tr>\n",
       "      <th>0</th>\n",
       "      <td>6</td>\n",
       "      <td>5</td>\n",
       "      <td>75500000</td>\n",
       "      <td>20.0</td>\n",
       "      <td>0</td>\n",
       "      <td>0</td>\n",
       "      <td>0</td>\n",
       "      <td>0</td>\n",
       "      <td>0</td>\n",
       "      <td>0</td>\n",
       "      <td>...</td>\n",
       "      <td>0</td>\n",
       "      <td>0</td>\n",
       "      <td>0</td>\n",
       "      <td>0</td>\n",
       "      <td>0</td>\n",
       "      <td>0</td>\n",
       "      <td>0</td>\n",
       "      <td>0</td>\n",
       "      <td>0</td>\n",
       "      <td>0</td>\n",
       "    </tr>\n",
       "    <tr>\n",
       "      <th>1</th>\n",
       "      <td>5</td>\n",
       "      <td>5</td>\n",
       "      <td>25000000</td>\n",
       "      <td>8.0</td>\n",
       "      <td>0</td>\n",
       "      <td>0</td>\n",
       "      <td>0</td>\n",
       "      <td>0</td>\n",
       "      <td>0</td>\n",
       "      <td>0</td>\n",
       "      <td>...</td>\n",
       "      <td>0</td>\n",
       "      <td>0</td>\n",
       "      <td>0</td>\n",
       "      <td>0</td>\n",
       "      <td>0</td>\n",
       "      <td>0</td>\n",
       "      <td>0</td>\n",
       "      <td>0</td>\n",
       "      <td>0</td>\n",
       "      <td>0</td>\n",
       "    </tr>\n",
       "    <tr>\n",
       "      <th>2</th>\n",
       "      <td>6</td>\n",
       "      <td>5</td>\n",
       "      <td>47000000</td>\n",
       "      <td>10.0</td>\n",
       "      <td>0</td>\n",
       "      <td>0</td>\n",
       "      <td>0</td>\n",
       "      <td>0</td>\n",
       "      <td>0</td>\n",
       "      <td>0</td>\n",
       "      <td>...</td>\n",
       "      <td>0</td>\n",
       "      <td>0</td>\n",
       "      <td>0</td>\n",
       "      <td>0</td>\n",
       "      <td>0</td>\n",
       "      <td>0</td>\n",
       "      <td>0</td>\n",
       "      <td>0</td>\n",
       "      <td>0</td>\n",
       "      <td>0</td>\n",
       "    </tr>\n",
       "    <tr>\n",
       "      <th>3</th>\n",
       "      <td>3</td>\n",
       "      <td>3</td>\n",
       "      <td>28000000</td>\n",
       "      <td>10.0</td>\n",
       "      <td>0</td>\n",
       "      <td>0</td>\n",
       "      <td>0</td>\n",
       "      <td>0</td>\n",
       "      <td>0</td>\n",
       "      <td>0</td>\n",
       "      <td>...</td>\n",
       "      <td>0</td>\n",
       "      <td>0</td>\n",
       "      <td>0</td>\n",
       "      <td>0</td>\n",
       "      <td>0</td>\n",
       "      <td>0</td>\n",
       "      <td>0</td>\n",
       "      <td>0</td>\n",
       "      <td>0</td>\n",
       "      <td>0</td>\n",
       "    </tr>\n",
       "    <tr>\n",
       "      <th>4</th>\n",
       "      <td>5</td>\n",
       "      <td>4</td>\n",
       "      <td>43500000</td>\n",
       "      <td>8.0</td>\n",
       "      <td>0</td>\n",
       "      <td>0</td>\n",
       "      <td>0</td>\n",
       "      <td>0</td>\n",
       "      <td>0</td>\n",
       "      <td>0</td>\n",
       "      <td>...</td>\n",
       "      <td>0</td>\n",
       "      <td>0</td>\n",
       "      <td>0</td>\n",
       "      <td>0</td>\n",
       "      <td>0</td>\n",
       "      <td>0</td>\n",
       "      <td>0</td>\n",
       "      <td>0</td>\n",
       "      <td>0</td>\n",
       "      <td>0</td>\n",
       "    </tr>\n",
       "    <tr>\n",
       "      <th>...</th>\n",
       "      <td>...</td>\n",
       "      <td>...</td>\n",
       "      <td>...</td>\n",
       "      <td>...</td>\n",
       "      <td>...</td>\n",
       "      <td>...</td>\n",
       "      <td>...</td>\n",
       "      <td>...</td>\n",
       "      <td>...</td>\n",
       "      <td>...</td>\n",
       "      <td>...</td>\n",
       "      <td>...</td>\n",
       "      <td>...</td>\n",
       "      <td>...</td>\n",
       "      <td>...</td>\n",
       "      <td>...</td>\n",
       "      <td>...</td>\n",
       "      <td>...</td>\n",
       "      <td>...</td>\n",
       "      <td>...</td>\n",
       "      <td>...</td>\n",
       "    </tr>\n",
       "    <tr>\n",
       "      <th>17164</th>\n",
       "      <td>6</td>\n",
       "      <td>7</td>\n",
       "      <td>49000000</td>\n",
       "      <td>20.0</td>\n",
       "      <td>0</td>\n",
       "      <td>0</td>\n",
       "      <td>0</td>\n",
       "      <td>0</td>\n",
       "      <td>0</td>\n",
       "      <td>0</td>\n",
       "      <td>...</td>\n",
       "      <td>0</td>\n",
       "      <td>0</td>\n",
       "      <td>0</td>\n",
       "      <td>0</td>\n",
       "      <td>0</td>\n",
       "      <td>0</td>\n",
       "      <td>0</td>\n",
       "      <td>0</td>\n",
       "      <td>0</td>\n",
       "      <td>0</td>\n",
       "    </tr>\n",
       "    <tr>\n",
       "      <th>17165</th>\n",
       "      <td>4</td>\n",
       "      <td>3</td>\n",
       "      <td>28000000</td>\n",
       "      <td>5.0</td>\n",
       "      <td>0</td>\n",
       "      <td>0</td>\n",
       "      <td>0</td>\n",
       "      <td>0</td>\n",
       "      <td>0</td>\n",
       "      <td>0</td>\n",
       "      <td>...</td>\n",
       "      <td>0</td>\n",
       "      <td>0</td>\n",
       "      <td>0</td>\n",
       "      <td>0</td>\n",
       "      <td>0</td>\n",
       "      <td>0</td>\n",
       "      <td>0</td>\n",
       "      <td>0</td>\n",
       "      <td>0</td>\n",
       "      <td>0</td>\n",
       "    </tr>\n",
       "    <tr>\n",
       "      <th>17166</th>\n",
       "      <td>7</td>\n",
       "      <td>6</td>\n",
       "      <td>108500000</td>\n",
       "      <td>20.0</td>\n",
       "      <td>0</td>\n",
       "      <td>0</td>\n",
       "      <td>0</td>\n",
       "      <td>0</td>\n",
       "      <td>0</td>\n",
       "      <td>0</td>\n",
       "      <td>...</td>\n",
       "      <td>0</td>\n",
       "      <td>0</td>\n",
       "      <td>0</td>\n",
       "      <td>0</td>\n",
       "      <td>0</td>\n",
       "      <td>0</td>\n",
       "      <td>0</td>\n",
       "      <td>0</td>\n",
       "      <td>0</td>\n",
       "      <td>0</td>\n",
       "    </tr>\n",
       "    <tr>\n",
       "      <th>17167</th>\n",
       "      <td>6</td>\n",
       "      <td>5</td>\n",
       "      <td>75500000</td>\n",
       "      <td>20.0</td>\n",
       "      <td>0</td>\n",
       "      <td>0</td>\n",
       "      <td>0</td>\n",
       "      <td>0</td>\n",
       "      <td>0</td>\n",
       "      <td>0</td>\n",
       "      <td>...</td>\n",
       "      <td>0</td>\n",
       "      <td>0</td>\n",
       "      <td>0</td>\n",
       "      <td>0</td>\n",
       "      <td>0</td>\n",
       "      <td>0</td>\n",
       "      <td>0</td>\n",
       "      <td>0</td>\n",
       "      <td>0</td>\n",
       "      <td>0</td>\n",
       "    </tr>\n",
       "    <tr>\n",
       "      <th>17168</th>\n",
       "      <td>5</td>\n",
       "      <td>4</td>\n",
       "      <td>55000000</td>\n",
       "      <td>10.0</td>\n",
       "      <td>0</td>\n",
       "      <td>0</td>\n",
       "      <td>0</td>\n",
       "      <td>0</td>\n",
       "      <td>0</td>\n",
       "      <td>0</td>\n",
       "      <td>...</td>\n",
       "      <td>0</td>\n",
       "      <td>0</td>\n",
       "      <td>0</td>\n",
       "      <td>0</td>\n",
       "      <td>0</td>\n",
       "      <td>0</td>\n",
       "      <td>0</td>\n",
       "      <td>0</td>\n",
       "      <td>0</td>\n",
       "      <td>0</td>\n",
       "    </tr>\n",
       "  </tbody>\n",
       "</table>\n",
       "<p>17169 rows × 106 columns</p>\n",
       "</div>"
      ],
      "text/plain": [
       "       Bath(s)  Bedroom(s)      Price  Marla  Al Noor Park Housing Society  \\\n",
       "0            6           5   75500000   20.0                             0   \n",
       "1            5           5   25000000    8.0                             0   \n",
       "2            6           5   47000000   10.0                             0   \n",
       "3            3           3   28000000   10.0                             0   \n",
       "4            5           4   43500000    8.0                             0   \n",
       "...        ...         ...        ...    ...                           ...   \n",
       "17164        6           7   49000000   20.0                             0   \n",
       "17165        4           3   28000000    5.0                             0   \n",
       "17166        7           6  108500000   20.0                             0   \n",
       "17167        6           5   75500000   20.0                             0   \n",
       "17168        5           4   55000000   10.0                             0   \n",
       "\n",
       "       Al Rehman Garden  Al-Hafiz Town  Al-Hamad Colony (AIT)  Al-Hamd Park  \\\n",
       "0                     0              0                      0             0   \n",
       "1                     0              0                      0             0   \n",
       "2                     0              0                      0             0   \n",
       "3                     0              0                      0             0   \n",
       "4                     0              0                      0             0   \n",
       "...                 ...            ...                    ...           ...   \n",
       "17164                 0              0                      0             0   \n",
       "17165                 0              0                      0             0   \n",
       "17166                 0              0                      0             0   \n",
       "17167                 0              0                      0             0   \n",
       "17168                 0              0                      0             0   \n",
       "\n",
       "       Allama Iqbal Town  ...  Taj Bagh Scheme  Tariq Gardens  \\\n",
       "0                      0  ...                0              0   \n",
       "1                      0  ...                0              0   \n",
       "2                      0  ...                0              0   \n",
       "3                      0  ...                0              0   \n",
       "4                      0  ...                0              0   \n",
       "...                  ...  ...              ...            ...   \n",
       "17164                  0  ...                0              0   \n",
       "17165                  0  ...                0              0   \n",
       "17166                  0  ...                0              0   \n",
       "17167                  0  ...                0              0   \n",
       "17168                  0  ...                0              0   \n",
       "\n",
       "       Thokar Niaz Baig  Township  UET Housing Society  \\\n",
       "0                     0         0                    0   \n",
       "1                     0         0                    0   \n",
       "2                     0         0                    0   \n",
       "3                     0         0                    0   \n",
       "4                     0         0                    0   \n",
       "...                 ...       ...                  ...   \n",
       "17164                 0         0                    0   \n",
       "17165                 0         0                    0   \n",
       "17166                 0         0                    0   \n",
       "17167                 0         0                    0   \n",
       "17168                 0         0                    0   \n",
       "\n",
       "       Valencia Housing Society  Vital Homes Housing Scheme  Walton Road  \\\n",
       "0                             0                           0            0   \n",
       "1                             0                           0            0   \n",
       "2                             0                           0            0   \n",
       "3                             0                           0            0   \n",
       "4                             0                           0            0   \n",
       "...                         ...                         ...          ...   \n",
       "17164                         0                           0            0   \n",
       "17165                         0                           0            0   \n",
       "17166                         0                           0            0   \n",
       "17167                         0                           0            0   \n",
       "17168                         0                           0            0   \n",
       "\n",
       "       Wapda Town  other  \n",
       "0               0      0  \n",
       "1               0      0  \n",
       "2               0      0  \n",
       "3               0      0  \n",
       "4               0      0  \n",
       "...           ...    ...  \n",
       "17164           0      0  \n",
       "17165           0      0  \n",
       "17166           0      0  \n",
       "17167           0      0  \n",
       "17168           0      0  \n",
       "\n",
       "[17169 rows x 106 columns]"
      ]
     },
     "execution_count": 58,
     "metadata": {},
     "output_type": "execute_result"
    }
   ],
   "source": [
    "location_dummies = pd.get_dummies(df1['Location']).astype(int)\n",
    "\n",
    "df2 = pd.concat([df1, location_dummies], axis=1)\n",
    "df2 = df2.drop(\"Location\", axis=1)\n",
    "df2"
   ]
  },
  {
   "cell_type": "markdown",
   "id": "c702bab2",
   "metadata": {},
   "source": [
    "## Train-Test Split"
   ]
  },
  {
   "cell_type": "markdown",
   "id": "0e9a9c4a",
   "metadata": {},
   "source": [
    "### Prepare feature matrix and target vector"
   ]
  },
  {
   "cell_type": "code",
   "execution_count": 59,
   "id": "9c1e5464",
   "metadata": {},
   "outputs": [],
   "source": [
    "X = df2.drop(\"Price\", axis=1)\n",
    "y = df2['Price']"
   ]
  },
  {
   "cell_type": "markdown",
   "id": "f5531d3b",
   "metadata": {},
   "source": [
    "### Split the data"
   ]
  },
  {
   "cell_type": "code",
   "execution_count": 60,
   "id": "86199a66",
   "metadata": {},
   "outputs": [],
   "source": [
    "x_train, x_test, y_train, y_test = train_test_split(X, y, test_size=0.2, random_state=42)"
   ]
  },
  {
   "cell_type": "markdown",
   "id": "cf435eb9",
   "metadata": {},
   "source": [
    "## Model Training"
   ]
  },
  {
   "cell_type": "markdown",
   "id": "f536d874",
   "metadata": {},
   "source": [
    "### Train Linear Regression model"
   ]
  },
  {
   "cell_type": "code",
   "execution_count": 61,
   "id": "c239a833",
   "metadata": {},
   "outputs": [],
   "source": [
    "linear_model = LinearRegression()\n",
    "linear_model.fit(x_train, y_train)\n",
    "linear_score = linear_model.score(x_test, y_test)"
   ]
  },
  {
   "cell_type": "markdown",
   "id": "2883f768",
   "metadata": {},
   "source": [
    "### Train Lasso Regression model"
   ]
  },
  {
   "cell_type": "code",
   "execution_count": 62,
   "id": "663964c4",
   "metadata": {},
   "outputs": [
    {
     "name": "stderr",
     "output_type": "stream",
     "text": [
      "C:\\Users\\rekoj\\anaconda3\\Lib\\site-packages\\sklearn\\linear_model\\_coordinate_descent.py:631: ConvergenceWarning: Objective did not converge. You might want to increase the number of iterations, check the scale of the features or consider increasing regularisation. Duality gap: 4.055e+18, tolerance: 4.000e+15\n",
      "  model = cd_fast.enet_coordinate_descent(\n"
     ]
    }
   ],
   "source": [
    "lasso_model = Lasso(alpha=0.1)\n",
    "lasso_model.fit(x_train, y_train)\n",
    "lasso_score = lasso_model.score(x_test, y_test)"
   ]
  },
  {
   "cell_type": "markdown",
   "id": "db4fa34b",
   "metadata": {},
   "source": [
    "### Train Ridge Regression model"
   ]
  },
  {
   "cell_type": "code",
   "execution_count": 63,
   "id": "89dfb2e5",
   "metadata": {},
   "outputs": [],
   "source": [
    "ridge_model = Ridge(alpha=1)\n",
    "ridge_model.fit(x_train, y_train)\n",
    "ridge_score = ridge_model.score(x_test, y_test)"
   ]
  },
  {
   "cell_type": "markdown",
   "id": "48f5fdfe",
   "metadata": {},
   "source": [
    "### Train Decision Tree Regression model"
   ]
  },
  {
   "cell_type": "code",
   "execution_count": 64,
   "id": "08a021a0",
   "metadata": {},
   "outputs": [],
   "source": [
    "tree_model = DecisionTreeRegressor()\n",
    "tree_model.fit(x_train, y_train)\n",
    "tree_score = tree_model.score(x_test, y_test)"
   ]
  },
  {
   "cell_type": "markdown",
   "id": "dcee7c12",
   "metadata": {},
   "source": [
    "# Print scores"
   ]
  },
  {
   "cell_type": "code",
   "execution_count": 65,
   "id": "94c3dbf7",
   "metadata": {},
   "outputs": [
    {
     "name": "stdout",
     "output_type": "stream",
     "text": [
      "Linear Regression score: 0.7606185434886679\n",
      "Lasso Regression score: 0.7606192027504026\n",
      "Ridge Regression score: 0.7606377336793512\n",
      "Decision Tree Regression score: 0.8385369659805926\n"
     ]
    }
   ],
   "source": [
    "print(\"Linear Regression score:\", linear_score)\n",
    "print(\"Lasso Regression score:\", lasso_score)\n",
    "print(\"Ridge Regression score:\", ridge_score)\n",
    "print(\"Decision Tree Regression score:\", tree_score)"
   ]
  },
  {
   "cell_type": "markdown",
   "id": "fa4dc4a8",
   "metadata": {},
   "source": [
    "# Accuracy Comparison"
   ]
  },
  {
   "cell_type": "code",
   "execution_count": 66,
   "id": "f5deee3b",
   "metadata": {},
   "outputs": [
    {
     "name": "stderr",
     "output_type": "stream",
     "text": [
      "C:\\Users\\rekoj\\anaconda3\\Lib\\site-packages\\seaborn\\_oldcore.py:1765: FutureWarning: unique with argument that is not not a Series, Index, ExtensionArray, or np.ndarray is deprecated and will raise in a future version.\n",
      "  order = pd.unique(vector)\n"
     ]
    },
    {
     "data": {
      "image/png": "[encoded data removed]",
      "text/plain": [
       "<Figure size 1000x600 with 1 Axes>"
      ]
     },
     "metadata": {},
     "output_type": "display_data"
    }
   ],
   "source": [
    "models = ['Linear Regression', 'Lasso Regression', 'Ridge Regression', 'Decision Tree']\n",
    "scores = [linear_score, lasso_score, ridge_score, tree_score]\n",
    "\n",
    "plt.figure(figsize=(10, 6))\n",
    "sns.barplot(x=models, y=scores)\n",
    "plt.ylabel('Accuracy')\n",
    "plt.title('Model Accuracy Comparison')\n",
    "plt.show()"
   ]
  },
  {
   "cell_type": "markdown",
   "id": "508e3693",
   "metadata": {},
   "source": [
    "# Decision Tree Regression has the highest score"
   ]
  },
  {
   "cell_type": "code",
   "execution_count": 67,
   "id": "4ead3742",
   "metadata": {},
   "outputs": [],
   "source": [
    "best_model = tree_model"
   ]
  },
  {
   "cell_type": "markdown",
   "id": "df27fe07",
   "metadata": {},
   "source": [
    "# Define the predict_price function for Decision Tree Regression"
   ]
  },
  {
   "cell_type": "code",
   "execution_count": 68,
   "id": "49adcba1",
   "metadata": {},
   "outputs": [],
   "source": [
    "def predict_price(location, marla, bath, bedroom):\n",
    "    loc_index = np.where(X.columns == location)[0][0]\n",
    "\n",
    "    x = np.zeros(len(X.columns))\n",
    "    x[0] = bath\n",
    "    x[1] = bedroom\n",
    "    x[2] = marla\n",
    "\n",
    "    if loc_index >= 0:\n",
    "        x[loc_index] = 1\n",
    "\n",
    "    predicted_price = best_model.predict([x])[0]\n",
    "    return abs(predicted_price) if predicted_price < 0 else predicted_price"
   ]
  },
  {
   "cell_type": "markdown",
   "id": "c5e48bc1",
   "metadata": {},
   "source": [
    "# Example prediction"
   ]
  },
  {
   "cell_type": "code",
   "execution_count": 69,
   "id": "7746d5fc",
   "metadata": {},
   "outputs": [
    {
     "name": "stdout",
     "output_type": "stream",
     "text": [
      "Predicted price for a 10 Marla house with 4 baths and 4 bedrooms in DHA Defence: 45865277.777777776\n"
     ]
    },
    {
     "name": "stderr",
     "output_type": "stream",
     "text": [
      "C:\\Users\\rekoj\\anaconda3\\Lib\\site-packages\\sklearn\\base.py:439: UserWarning: X does not have valid feature names, but DecisionTreeRegressor was fitted with feature names\n",
      "  warnings.warn(\n"
     ]
    }
   ],
   "source": [
    "print(f\"Predicted price for a 10 Marla house with 4 baths and 4 bedrooms in DHA Defence: {predict_price('DHA Defence', 10, 4,4)}\")"
   ]
  },
  {
   "cell_type": "markdown",
   "id": "b84edfb1",
   "metadata": {},
   "source": [
    "# Save the Decision Tree model for web deployment"
   ]
  },
  {
   "cell_type": "code",
   "execution_count": 70,
   "id": "da226b0b",
   "metadata": {},
   "outputs": [],
   "source": [
    "import pickle\n",
    "with open('lahore_home_prices_model.pickle', 'wb') as f:\n",
    "    pickle.dump(best_model, f)\n",
    "    \n",
    "import json\n",
    "columns = {'data_columns': [col.lower() for col in X.columns]}\n",
    "with open('columns.json', 'w') as f:\n",
    "    f.write(json.dumps(columns))"
   ]
  },
  {
   "cell_type": "code",
   "execution_count": null,
   "id": "9db521df",
   "metadata": {},
   "outputs": [],
   "source": []
  },
  {
   "cell_type": "code",
   "execution_count": null,
   "id": "f95d51b7",
   "metadata": {},
   "outputs": [],
   "source": []
  },
  {
   "cell_type": "code",
   "execution_count": null,
   "id": "d927c597",
   "metadata": {},
   "outputs": [],
   "source": []
  }
 ],
 "metadata": {
  "kernelspec": {
   "display_name": "Python 3 (ipykernel)",
   "language": "python",
   "name": "python3"
  },
  "language_info": {
   "codemirror_mode": {
    "name": "ipython",
    "version": 3
   },
   "file_extension": ".py",
   "mimetype": "text/x-python",
   "name": "python",
   "nbconvert_exporter": "python",
   "pygments_lexer": "ipython3",
   "version": "3.11.7"
  }
 },
 "nbformat": 4,
 "nbformat_minor": 5
}
